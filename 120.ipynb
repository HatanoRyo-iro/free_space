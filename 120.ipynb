{
 "cells": [
  {
   "cell_type": "code",
   "execution_count": 1,
   "id": "fcc4628c",
   "metadata": {},
   "outputs": [],
   "source": [
    "import pandas as pd"
   ]
  },
  {
   "cell_type": "code",
   "execution_count": 4,
   "id": "5f19bb78",
   "metadata": {},
   "outputs": [
    {
     "name": "stdout",
     "output_type": "stream",
     "text": [
      "                     created_at  content    type  \\\n",
      "0    2022-09-02T14:15:29.925161        0  Others   \n",
      "1    2022-09-03T14:15:29.925162        1  Others   \n",
      "2    2022-09-03T14:15:29.925163        2  Others   \n",
      "3    2022-09-03T14:15:29.925164        3  Others   \n",
      "4    2022-09-03T14:15:29.925165        4  Others   \n",
      "..                          ...      ...     ...   \n",
      "116  2022-09-14T14:15:29.925277      116  Others   \n",
      "117  2022-09-14T14:15:29.925278      117  Others   \n",
      "118  2022-09-14T14:15:29.925279      118  Others   \n",
      "119  2022-09-14T14:15:29.925280      119  Others   \n",
      "120  2022-09-14T14:15:29.925281      120  Others   \n",
      "\n",
      "                               profile_id  \\\n",
      "0    e4f029ea-4bbc-4418-951e-07e1e510c2b8   \n",
      "1    e4f029ea-4bbc-4418-951e-07e1e510c2b8   \n",
      "2    e4f029ea-4bbc-4418-951e-07e1e510c2b8   \n",
      "3    e4f029ea-4bbc-4418-951e-07e1e510c2b8   \n",
      "4    e4f029ea-4bbc-4418-951e-07e1e510c2b8   \n",
      "..                                    ...   \n",
      "116  e4f029ea-4bbc-4418-951e-07e1e510c2b8   \n",
      "117  e4f029ea-4bbc-4418-951e-07e1e510c2b8   \n",
      "118  e4f029ea-4bbc-4418-951e-07e1e510c2b8   \n",
      "119  e4f029ea-4bbc-4418-951e-07e1e510c2b8   \n",
      "120  e4f029ea-4bbc-4418-951e-07e1e510c2b8   \n",
      "\n",
      "                                course_id     role  \n",
      "0    9cc84d4d-bb3f-4fe9-a5c2-c2c170eb1278  Teacher  \n",
      "1    9cc84d4d-bb3f-4fe9-a5c2-c2c170eb1278  Teacher  \n",
      "2    9cc84d4d-bb3f-4fe9-a5c2-c2c170eb1278  Teacher  \n",
      "3    9cc84d4d-bb3f-4fe9-a5c2-c2c170eb1278  Teacher  \n",
      "4    9cc84d4d-bb3f-4fe9-a5c2-c2c170eb1278  Teacher  \n",
      "..                                    ...      ...  \n",
      "116  9cc84d4d-bb3f-4fe9-a5c2-c2c170eb1278  Teacher  \n",
      "117  9cc84d4d-bb3f-4fe9-a5c2-c2c170eb1278  Teacher  \n",
      "118  9cc84d4d-bb3f-4fe9-a5c2-c2c170eb1278  Teacher  \n",
      "119  9cc84d4d-bb3f-4fe9-a5c2-c2c170eb1278  Teacher  \n",
      "120  9cc84d4d-bb3f-4fe9-a5c2-c2c170eb1278  Teacher  \n",
      "\n",
      "[121 rows x 6 columns]\n"
     ]
    }
   ],
   "source": [
    "from datetime import datetime\n",
    "\n",
    "\n",
    "data = {'created_at': [], 'content': [], 'type': [], 'profile_id': [], 'course_id': [], 'role': []}\n",
    "df = pd.DataFrame(data, dtype=int)\n",
    "\n",
    "count = 0\n",
    "add_date = 1\n",
    "\n",
    "# ループを使って新しい行を追加\n",
    "for i in range(121):\n",
    "    if count % 10 == 0:\n",
    "        \n",
    "        add_df = pd.DataFrame([[(datetime(2022, 9, 1+add_date, 14, 15, 29, 925161+i)).isoformat(), i, 'Others', 'e4f029ea-4bbc-4418-951e-07e1e510c2b8', '9cc84d4d-bb3f-4fe9-a5c2-c2c170eb1278', 'Teacher']],\n",
    "                          columns=['created_at', 'content', 'type', 'profile_id', 'course_id', 'role'])\n",
    "        add_date += 1\n",
    "    \n",
    "    else:\n",
    "        add_df = pd.DataFrame([[(datetime(2022, 9, 1+add_date, 14, 15, 29, 925161+i)).isoformat(), i, 'Others', 'e4f029ea-4bbc-4418-951e-07e1e510c2b8', '9cc84d4d-bb3f-4fe9-a5c2-c2c170eb1278', 'Teacher']],\n",
    "                          columns=['created_at', 'content', 'type', 'profile_id', 'course_id', 'role'])\n",
    "    \n",
    "        \n",
    "        \n",
    "    df = pd.concat([df, add_df], ignore_index=True)\n",
    "    \n",
    "    count += 1\n",
    "\n",
    "print(df)"
   ]
  },
  {
   "cell_type": "code",
   "execution_count": 4,
   "id": "bd1eeb05",
   "metadata": {},
   "outputs": [],
   "source": [
    "df.to_csv('shota_fuck12.csv', index=None)"
   ]
  },
  {
   "cell_type": "code",
   "execution_count": null,
   "id": "94469192",
   "metadata": {},
   "outputs": [],
   "source": []
  },
  {
   "cell_type": "code",
   "execution_count": 7,
   "id": "7dbe7cb9",
   "metadata": {},
   "outputs": [],
   "source": [
    "from datetime import datetime"
   ]
  },
  {
   "cell_type": "code",
   "execution_count": 17,
   "id": "050558fc",
   "metadata": {},
   "outputs": [
    {
     "name": "stdout",
     "output_type": "stream",
     "text": [
      "2023-09-26 14:15:29.925161\n",
      "2023-09-26 14:15:29.925162\n",
      "2023-09-26 14:15:29.925163\n",
      "2023-09-26 14:15:29.925164\n",
      "2023-09-26 14:15:29.925165\n",
      "2023-09-26 14:15:29.925166\n",
      "2023-09-26 14:15:29.925167\n",
      "2023-09-26 14:15:29.925168\n",
      "2023-09-26 14:15:29.925169\n",
      "2023-09-26 14:15:29.925170\n"
     ]
    }
   ],
   "source": [
    "for i in range(10):\n",
    "    print(datetime(2023, 9, 26, 14, 15, 29, 925161+i))"
   ]
  },
  {
   "cell_type": "code",
   "execution_count": 15,
   "id": "501dab8a",
   "metadata": {},
   "outputs": [
    {
     "data": {
      "text/plain": [
       "'2023-09-26T14:15:29.925161'"
      ]
     },
     "execution_count": 15,
     "metadata": {},
     "output_type": "execute_result"
    }
   ],
   "source": [
    "temp_time.isoformat()"
   ]
  },
  {
   "cell_type": "code",
   "execution_count": null,
   "id": "48e4fa75",
   "metadata": {},
   "outputs": [],
   "source": []
  },
  {
   "cell_type": "code",
   "execution_count": null,
   "id": "a3ac5b7c",
   "metadata": {},
   "outputs": [],
   "source": []
  },
  {
   "cell_type": "code",
   "execution_count": 18,
   "id": "7211fee1",
   "metadata": {},
   "outputs": [
    {
     "name": "stdout",
     "output_type": "stream",
     "text": [
      "hello\n",
      "hello\n",
      "hello\n",
      "hello\n",
      "hello\n",
      "hello\n",
      "hello\n",
      "hello\n",
      "hello\n",
      "hello\n"
     ]
    }
   ],
   "source": [
    "for i in range(10):\n",
    "    print('hello')"
   ]
  },
  {
   "cell_type": "code",
   "execution_count": 19,
   "id": "d5d3feb1",
   "metadata": {},
   "outputs": [
    {
     "name": "stdout",
     "output_type": "stream",
     "text": [
      "hello\n",
      "hello\n",
      "hello\n",
      "hello\n",
      "hello\n",
      "hello\n",
      "hello\n",
      "hello\n",
      "hello\n",
      "hello\n"
     ]
    }
   ],
   "source": [
    "for _ in range(10):\n",
    "    print('hello')"
   ]
  },
  {
   "cell_type": "code",
   "execution_count": null,
   "id": "cc0bac1a",
   "metadata": {},
   "outputs": [],
   "source": []
  }
 ],
 "metadata": {
  "kernelspec": {
   "display_name": "Python 3 (ipykernel)",
   "language": "python",
   "name": "python3"
  },
  "language_info": {
   "codemirror_mode": {
    "name": "ipython",
    "version": 3
   },
   "file_extension": ".py",
   "mimetype": "text/x-python",
   "name": "python",
   "nbconvert_exporter": "python",
   "pygments_lexer": "ipython3",
   "version": "3.9.7"
  }
 },
 "nbformat": 4,
 "nbformat_minor": 5
}
